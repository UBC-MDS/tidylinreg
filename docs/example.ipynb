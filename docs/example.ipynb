{
 "cells": [
  {
   "cell_type": "markdown",
   "metadata": {},
   "source": [
    "# tidylinreg Example\n",
    "\n",
    "The `tidylinreg` package fits a linear model to a dataset, and can be used to carry out regression. `tidylinreg` computes and returns a list of summary statistics of the coefficients of the fitted linear model, including standard error, test statistic, confidence interval, and p-value.\n",
    "\n",
    "To use `tidylinreg` in a project:"
   ]
  },
  {
   "cell_type": "code",
   "execution_count": 1,
   "metadata": {},
   "outputs": [
    {
     "data": {
      "text/plain": [
       "tidylinreg.tidylinreg.LinearModel"
      ]
     },
     "execution_count": 1,
     "metadata": {},
     "output_type": "execute_result"
    }
   ],
   "source": [
    "from tidylinreg.tidylinreg import LinearModel\n",
    "\n",
    "LinearModel"
   ]
  },
  {
   "cell_type": "markdown",
   "metadata": {},
   "source": [
    "## Data\n",
    "\n",
    "To demonstrate Linear Regression using `tidylinreg`, we can use the [California housing dataset](https://scikit-learn.org/dev/modules/generated/sklearn.datasets.fetch_california_housing.html). This dataset has 8 numeric, predictive attributes and the target.\n",
    "\n",
    "Attributes:\n",
    "- MedInc: median income in block group\n",
    "- HouseAge: median house age in block group\n",
    "- AveRooms: average number of rooms per household\n",
    "- AveBedrms: average number of bedrooms per household\n",
    "- Population: block group population\n",
    "- AveOccup: average number of household members\n",
    "- Latitude: block group latitude\n",
    "- Longitude: block group longitude\n",
    "\n",
    "Target: The target variable is the median house value for California districts, expressed in hundreds of thousands of dollars ($100,000)."
   ]
  },
  {
   "cell_type": "code",
   "execution_count": 2,
   "metadata": {},
   "outputs": [],
   "source": [
    "from sklearn.datasets import fetch_california_housing\n",
    "import pandas as pd\n",
    "\n",
    "housing = fetch_california_housing(as_frame=True)\n",
    "X = housing[\"data\"]\n",
    "y = housing[\"target\"]"
   ]
  },
  {
   "cell_type": "markdown",
   "metadata": {},
   "source": [
    "### Train/Test Split\n",
    "\n",
    "Make sure to split the data into train and test sets to avoid any violations of the **Golden Rule**!"
   ]
  },
  {
   "cell_type": "code",
   "execution_count": 3,
   "metadata": {},
   "outputs": [],
   "source": [
    "from sklearn.model_selection import train_test_split\n",
    "\n",
    "X_train, X_test, y_train, y_test = train_test_split(X, y, test_size=0.3, random_state=524)"
   ]
  },
  {
   "cell_type": "markdown",
   "metadata": {},
   "source": [
    "### EDA\n",
    "\n",
    "EDA is not the focus of this example, so here's just a quick preview of the data. A more detailed explanation of the data can be found [here](https://inria.github.io/scikit-learn-mooc/python_scripts/datasets_california_housing.html)."
   ]
  },
  {
   "cell_type": "code",
   "execution_count": 4,
   "metadata": {},
   "outputs": [
    {
     "data": {
      "text/html": [
       "<div>\n",
       "<style scoped>\n",
       "    .dataframe tbody tr th:only-of-type {\n",
       "        vertical-align: middle;\n",
       "    }\n",
       "\n",
       "    .dataframe tbody tr th {\n",
       "        vertical-align: top;\n",
       "    }\n",
       "\n",
       "    .dataframe thead th {\n",
       "        text-align: right;\n",
       "    }\n",
       "</style>\n",
       "<table border=\"1\" class=\"dataframe\">\n",
       "  <thead>\n",
       "    <tr style=\"text-align: right;\">\n",
       "      <th></th>\n",
       "      <th>MedInc</th>\n",
       "      <th>HouseAge</th>\n",
       "      <th>AveRooms</th>\n",
       "      <th>AveBedrms</th>\n",
       "      <th>Population</th>\n",
       "      <th>AveOccup</th>\n",
       "      <th>Latitude</th>\n",
       "      <th>Longitude</th>\n",
       "    </tr>\n",
       "  </thead>\n",
       "  <tbody>\n",
       "    <tr>\n",
       "      <th>190</th>\n",
       "      <td>3.3750</td>\n",
       "      <td>52.0</td>\n",
       "      <td>4.011905</td>\n",
       "      <td>1.071429</td>\n",
       "      <td>647.0</td>\n",
       "      <td>3.851190</td>\n",
       "      <td>37.79</td>\n",
       "      <td>-122.24</td>\n",
       "    </tr>\n",
       "    <tr>\n",
       "      <th>19599</th>\n",
       "      <td>1.5500</td>\n",
       "      <td>17.0</td>\n",
       "      <td>5.425150</td>\n",
       "      <td>1.080838</td>\n",
       "      <td>672.0</td>\n",
       "      <td>2.011976</td>\n",
       "      <td>37.56</td>\n",
       "      <td>-120.93</td>\n",
       "    </tr>\n",
       "    <tr>\n",
       "      <th>20100</th>\n",
       "      <td>2.0057</td>\n",
       "      <td>52.0</td>\n",
       "      <td>5.061728</td>\n",
       "      <td>1.078189</td>\n",
       "      <td>609.0</td>\n",
       "      <td>2.506173</td>\n",
       "      <td>37.96</td>\n",
       "      <td>-120.23</td>\n",
       "    </tr>\n",
       "    <tr>\n",
       "      <th>9708</th>\n",
       "      <td>1.9385</td>\n",
       "      <td>28.0</td>\n",
       "      <td>3.600000</td>\n",
       "      <td>1.039252</td>\n",
       "      <td>1717.0</td>\n",
       "      <td>3.209346</td>\n",
       "      <td>36.67</td>\n",
       "      <td>-121.65</td>\n",
       "    </tr>\n",
       "    <tr>\n",
       "      <th>20518</th>\n",
       "      <td>1.9426</td>\n",
       "      <td>32.0</td>\n",
       "      <td>3.957935</td>\n",
       "      <td>1.072658</td>\n",
       "      <td>2046.0</td>\n",
       "      <td>3.912046</td>\n",
       "      <td>38.58</td>\n",
       "      <td>-121.56</td>\n",
       "    </tr>\n",
       "    <tr>\n",
       "      <th>...</th>\n",
       "      <td>...</td>\n",
       "      <td>...</td>\n",
       "      <td>...</td>\n",
       "      <td>...</td>\n",
       "      <td>...</td>\n",
       "      <td>...</td>\n",
       "      <td>...</td>\n",
       "      <td>...</td>\n",
       "    </tr>\n",
       "    <tr>\n",
       "      <th>19206</th>\n",
       "      <td>1.9932</td>\n",
       "      <td>29.0</td>\n",
       "      <td>4.329949</td>\n",
       "      <td>1.053299</td>\n",
       "      <td>990.0</td>\n",
       "      <td>2.512690</td>\n",
       "      <td>38.47</td>\n",
       "      <td>-122.72</td>\n",
       "    </tr>\n",
       "    <tr>\n",
       "      <th>15131</th>\n",
       "      <td>2.3693</td>\n",
       "      <td>11.0</td>\n",
       "      <td>4.434608</td>\n",
       "      <td>1.042254</td>\n",
       "      <td>1472.0</td>\n",
       "      <td>2.961771</td>\n",
       "      <td>32.86</td>\n",
       "      <td>-116.92</td>\n",
       "    </tr>\n",
       "    <tr>\n",
       "      <th>5652</th>\n",
       "      <td>2.1382</td>\n",
       "      <td>21.0</td>\n",
       "      <td>3.708333</td>\n",
       "      <td>1.058036</td>\n",
       "      <td>1699.0</td>\n",
       "      <td>2.528274</td>\n",
       "      <td>33.73</td>\n",
       "      <td>-118.29</td>\n",
       "    </tr>\n",
       "    <tr>\n",
       "      <th>12733</th>\n",
       "      <td>8.6572</td>\n",
       "      <td>20.0</td>\n",
       "      <td>8.130435</td>\n",
       "      <td>1.027174</td>\n",
       "      <td>1105.0</td>\n",
       "      <td>3.002717</td>\n",
       "      <td>38.58</td>\n",
       "      <td>-121.35</td>\n",
       "    </tr>\n",
       "    <tr>\n",
       "      <th>17402</th>\n",
       "      <td>2.2743</td>\n",
       "      <td>38.0</td>\n",
       "      <td>4.021419</td>\n",
       "      <td>1.062918</td>\n",
       "      <td>2601.0</td>\n",
       "      <td>3.481928</td>\n",
       "      <td>34.95</td>\n",
       "      <td>-120.44</td>\n",
       "    </tr>\n",
       "  </tbody>\n",
       "</table>\n",
       "<p>14448 rows × 8 columns</p>\n",
       "</div>"
      ],
      "text/plain": [
       "       MedInc  HouseAge  AveRooms  AveBedrms  Population  AveOccup  Latitude  \\\n",
       "190    3.3750      52.0  4.011905   1.071429       647.0  3.851190     37.79   \n",
       "19599  1.5500      17.0  5.425150   1.080838       672.0  2.011976     37.56   \n",
       "20100  2.0057      52.0  5.061728   1.078189       609.0  2.506173     37.96   \n",
       "9708   1.9385      28.0  3.600000   1.039252      1717.0  3.209346     36.67   \n",
       "20518  1.9426      32.0  3.957935   1.072658      2046.0  3.912046     38.58   \n",
       "...       ...       ...       ...        ...         ...       ...       ...   \n",
       "19206  1.9932      29.0  4.329949   1.053299       990.0  2.512690     38.47   \n",
       "15131  2.3693      11.0  4.434608   1.042254      1472.0  2.961771     32.86   \n",
       "5652   2.1382      21.0  3.708333   1.058036      1699.0  2.528274     33.73   \n",
       "12733  8.6572      20.0  8.130435   1.027174      1105.0  3.002717     38.58   \n",
       "17402  2.2743      38.0  4.021419   1.062918      2601.0  3.481928     34.95   \n",
       "\n",
       "       Longitude  \n",
       "190      -122.24  \n",
       "19599    -120.93  \n",
       "20100    -120.23  \n",
       "9708     -121.65  \n",
       "20518    -121.56  \n",
       "...          ...  \n",
       "19206    -122.72  \n",
       "15131    -116.92  \n",
       "5652     -118.29  \n",
       "12733    -121.35  \n",
       "17402    -120.44  \n",
       "\n",
       "[14448 rows x 8 columns]"
      ]
     },
     "execution_count": 4,
     "metadata": {},
     "output_type": "execute_result"
    }
   ],
   "source": [
    "X_train"
   ]
  },
  {
   "cell_type": "markdown",
   "metadata": {},
   "source": [
    "### Scaling\n",
    "\n",
    "This model uses simple linear regression with no regularization, so scaling of the features is optional but not required. Scaling is useful if we are interested in comparing relative feature importance; however, we should keep the data in its original scale in this example so that the linear regression coefficient estimates are more interpretable."
   ]
  },
  {
   "cell_type": "code",
   "execution_count": 5,
   "metadata": {},
   "outputs": [],
   "source": [
    "# from sklearn.preprocessing import StandardScaler\n",
    "\n",
    "# scaler = StandardScaler()\n",
    "# X_train = pd.DataFrame(scaler.fit_transform(X_train),\n",
    "#                        columns=X_train.columns,\n",
    "#                        index=X_train.index)\n",
    "# X_test = pd.DataFrame(scaler.fit_transform(X_test),\n",
    "#                       columns=X_test.columns,\n",
    "#                       index=X_test.index)"
   ]
  },
  {
   "cell_type": "markdown",
   "metadata": {},
   "source": [
    "## Fit\n",
    "\n",
    "Let's define our model and fit it to the training data! "
   ]
  },
  {
   "cell_type": "code",
   "execution_count": 6,
   "metadata": {},
   "outputs": [],
   "source": [
    "model = LinearModel()\n",
    "model.fit(X_train, y_train)"
   ]
  },
  {
   "cell_type": "markdown",
   "metadata": {},
   "source": [
    "## Predict\n",
    "\n",
    "How do our predictions look compared to the true values?"
   ]
  },
  {
   "cell_type": "code",
   "execution_count": 7,
   "metadata": {},
   "outputs": [
    {
     "data": {
      "text/plain": [
       "np.float64(8.703927837381253)"
      ]
     },
     "execution_count": 7,
     "metadata": {},
     "output_type": "execute_result"
    }
   ],
   "source": [
    "import matplotlib.pyplot as plt\n",
    "\n",
    "# model.predict(X_test)\n",
    "# plot predictions vs true values - plot residuals?\n",
    "preds = model.predict(X_train)\n",
    "preds.max()"
   ]
  },
  {
   "cell_type": "code",
   "execution_count": 8,
   "metadata": {},
   "outputs": [
    {
     "data": {
      "image/png": "[encoded data removed]",
      "text/plain": [
       "<Figure size 640x480 with 1 Axes>"
      ]
     },
     "metadata": {},
     "output_type": "display_data"
    }
   ],
   "source": [
    "# Create a scatter plot\n",
    "plt.scatter(y_train, preds, color='blue', label='Predictions')  # Scatter plot\n",
    "\n",
    "# Add a reference line (y = x)\n",
    "plt.plot([min(y_train), max(y_train)], [min(y_train), max(y_train)], \n",
    "         color='red', linestyle='--', label='Ideal Fit (y = x)')\n",
    "\n",
    "# Add labels and title\n",
    "plt.xlabel('True values')\n",
    "plt.ylabel('Predictions')\n",
    "plt.title('California Housing Predictions')\n",
    "plt.legend()\n",
    "\n",
    "# Display the plot\n",
    "plt.grid(True)  # Optional: Add a grid for better readability\n",
    "plt.show()"
   ]
  },
  {
   "cell_type": "markdown",
   "metadata": {},
   "source": [
    "## Summary Statistics\n",
    "\n",
    "This is the great part of `tidylinreg`! Calling `summary()` will calculate important statistical values for the linear model coefficient estimates, including standard error, test statistic, confidence interval, and p-values. The output of `summary()` is generated by calling the following internal class methods:\n",
    "- `get_std_error()`\n",
    "- `get_test_statistic()`\n",
    "- `get_ci()`\n",
    "- `get_pvalues()`"
   ]
  },
  {
   "cell_type": "code",
   "execution_count": 9,
   "metadata": {},
   "outputs": [
    {
     "data": {
      "text/html": [
       "<div>\n",
       "<style scoped>\n",
       "    .dataframe tbody tr th:only-of-type {\n",
       "        vertical-align: middle;\n",
       "    }\n",
       "\n",
       "    .dataframe tbody tr th {\n",
       "        vertical-align: top;\n",
       "    }\n",
       "\n",
       "    .dataframe thead th {\n",
       "        text-align: right;\n",
       "    }\n",
       "</style>\n",
       "<table border=\"1\" class=\"dataframe\">\n",
       "  <thead>\n",
       "    <tr style=\"text-align: right;\">\n",
       "      <th></th>\n",
       "      <th>Parameter</th>\n",
       "      <th>Estimate</th>\n",
       "      <th>Std. Error</th>\n",
       "      <th>T-Statistic</th>\n",
       "      <th>P-Value</th>\n",
       "    </tr>\n",
       "  </thead>\n",
       "  <tbody>\n",
       "    <tr>\n",
       "      <th>0</th>\n",
       "      <td>(Intercept)</td>\n",
       "      <td>-37.004147</td>\n",
       "      <td>0.790393</td>\n",
       "      <td>-46.817373</td>\n",
       "      <td>0.000000e+00</td>\n",
       "    </tr>\n",
       "    <tr>\n",
       "      <th>1</th>\n",
       "      <td>MedInc</td>\n",
       "      <td>0.438382</td>\n",
       "      <td>0.005039</td>\n",
       "      <td>86.989990</td>\n",
       "      <td>0.000000e+00</td>\n",
       "    </tr>\n",
       "    <tr>\n",
       "      <th>2</th>\n",
       "      <td>HouseAge</td>\n",
       "      <td>0.009267</td>\n",
       "      <td>0.000535</td>\n",
       "      <td>17.314654</td>\n",
       "      <td>0.000000e+00</td>\n",
       "    </tr>\n",
       "    <tr>\n",
       "      <th>3</th>\n",
       "      <td>AveRooms</td>\n",
       "      <td>-0.107089</td>\n",
       "      <td>0.006973</td>\n",
       "      <td>-15.358336</td>\n",
       "      <td>0.000000e+00</td>\n",
       "    </tr>\n",
       "    <tr>\n",
       "      <th>4</th>\n",
       "      <td>AveBedrms</td>\n",
       "      <td>0.635964</td>\n",
       "      <td>0.033466</td>\n",
       "      <td>19.003273</td>\n",
       "      <td>0.000000e+00</td>\n",
       "    </tr>\n",
       "    <tr>\n",
       "      <th>5</th>\n",
       "      <td>Population</td>\n",
       "      <td>-0.000007</td>\n",
       "      <td>0.000006</td>\n",
       "      <td>-1.160798</td>\n",
       "      <td>2.457431e-01</td>\n",
       "    </tr>\n",
       "    <tr>\n",
       "      <th>6</th>\n",
       "      <td>AveOccup</td>\n",
       "      <td>-0.003739</td>\n",
       "      <td>0.000536</td>\n",
       "      <td>-6.981016</td>\n",
       "      <td>3.058442e-12</td>\n",
       "    </tr>\n",
       "    <tr>\n",
       "      <th>7</th>\n",
       "      <td>Latitude</td>\n",
       "      <td>-0.422767</td>\n",
       "      <td>0.008629</td>\n",
       "      <td>-48.992423</td>\n",
       "      <td>0.000000e+00</td>\n",
       "    </tr>\n",
       "    <tr>\n",
       "      <th>8</th>\n",
       "      <td>Longitude</td>\n",
       "      <td>-0.435591</td>\n",
       "      <td>0.009039</td>\n",
       "      <td>-48.191074</td>\n",
       "      <td>0.000000e+00</td>\n",
       "    </tr>\n",
       "  </tbody>\n",
       "</table>\n",
       "</div>"
      ],
      "text/plain": [
       "     Parameter   Estimate  Std. Error  T-Statistic       P-Value\n",
       "0  (Intercept) -37.004147    0.790393   -46.817373  0.000000e+00\n",
       "1       MedInc   0.438382    0.005039    86.989990  0.000000e+00\n",
       "2     HouseAge   0.009267    0.000535    17.314654  0.000000e+00\n",
       "3     AveRooms  -0.107089    0.006973   -15.358336  0.000000e+00\n",
       "4    AveBedrms   0.635964    0.033466    19.003273  0.000000e+00\n",
       "5   Population  -0.000007    0.000006    -1.160798  2.457431e-01\n",
       "6     AveOccup  -0.003739    0.000536    -6.981016  3.058442e-12\n",
       "7     Latitude  -0.422767    0.008629   -48.992423  0.000000e+00\n",
       "8    Longitude  -0.435591    0.009039   -48.191074  0.000000e+00"
      ]
     },
     "execution_count": 9,
     "metadata": {},
     "output_type": "execute_result"
    }
   ],
   "source": [
    "model.summary()"
   ]
  },
  {
   "cell_type": "markdown",
   "metadata": {},
   "source": [
    "## Interpretations\n",
    "\n",
    "Wow, it looks like all of our coefficient estimates are statistically significant, except for `Population` (with a significance level $\\alpha = 0.05$). We can also make interpretations on these statistically significant coefficients; for example, we can say that a unit increase in median income in the block group (`MedInc`) is associated with an increase of \\\\$43,838.20 (`0.438382 * 100,000`) in the median house value for the housing district (holding all other factors constant)."
   ]
  },
  {
   "cell_type": "code",
   "execution_count": 17,
   "metadata": {},
   "outputs": [
    {
     "name": "stdout",
     "output_type": "stream",
     "text": [
      "                                 OLS Regression Results                                \n",
      "=======================================================================================\n",
      "Dep. Variable:            MedHouseVal   R-squared (uncentered):                   0.892\n",
      "Model:                            OLS   Adj. R-squared (uncentered):              0.892\n",
      "Method:                 Least Squares   F-statistic:                          1.487e+04\n",
      "Date:                Thu, 23 Jan 2025   Prob (F-statistic):                        0.00\n",
      "Time:                        12:55:23   Log-Likelihood:                         -16901.\n",
      "No. Observations:               14448   AIC:                                  3.382e+04\n",
      "Df Residuals:                   14440   BIC:                                  3.388e+04\n",
      "Df Model:                           8                                                  \n",
      "Covariance Type:            nonrobust                                                  \n",
      "==============================================================================\n",
      "                 coef    std err          t      P>|t|      [0.025      0.975]\n",
      "------------------------------------------------------------------------------\n",
      "MedInc         0.5148      0.005    100.614      0.000       0.505       0.525\n",
      "HouseAge       0.0157      0.001     28.308      0.000       0.015       0.017\n",
      "AveRooms      -0.1798      0.007    -24.641      0.000      -0.194      -0.165\n",
      "AveBedrms      0.8582      0.036     24.140      0.000       0.789       0.928\n",
      "Population  4.452e-06   6.19e-06      0.719      0.472   -7.69e-06    1.66e-05\n",
      "AveOccup      -0.0043      0.001     -7.428      0.000      -0.005      -0.003\n",
      "Latitude      -0.0650      0.004    -15.108      0.000      -0.073      -0.057\n",
      "Longitude     -0.0166      0.001    -12.174      0.000      -0.019      -0.014\n",
      "==============================================================================\n",
      "Omnibus:                     3229.863   Durbin-Watson:                   1.974\n",
      "Prob(Omnibus):                  0.000   Jarque-Bera (JB):            10420.587\n",
      "Skew:                           1.132   Prob(JB):                         0.00\n",
      "Kurtosis:                       6.490   Cond. No.                     1.02e+04\n",
      "==============================================================================\n",
      "\n",
      "Notes:\n",
      "[1] R² is computed without centering (uncentered) since the model does not contain a constant.\n",
      "[2] Standard Errors assume that the covariance matrix of the errors is correctly specified.\n",
      "[3] The condition number is large, 1.02e+04. This might indicate that there are\n",
      "strong multicollinearity or other numerical problems.\n"
     ]
    }
   ],
   "source": [
    "import statsmodels.api as sm\n",
    "\n",
    "mod = sm.OLS(y_train, X_train)\n",
    "res = mod.fit()\n",
    "print(res.summary())"
   ]
  },
  {
   "cell_type": "code",
   "execution_count": null,
   "metadata": {},
   "outputs": [],
   "source": []
  }
 ],
 "metadata": {
  "kernelspec": {
   "display_name": "Python 3 (ipykernel)",
   "language": "python",
   "name": "python3"
  },
  "language_info": {
   "codemirror_mode": {
    "name": "ipython",
    "version": 3
   },
   "file_extension": ".py",
   "mimetype": "text/x-python",
   "name": "python",
   "nbconvert_exporter": "python",
   "pygments_lexer": "ipython3",
   "version": "3.13.1"
  }
 },
 "nbformat": 4,
 "nbformat_minor": 4
}
